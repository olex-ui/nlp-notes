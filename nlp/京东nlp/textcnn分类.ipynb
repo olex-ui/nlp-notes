{
 "cells": [
  {
   "cell_type": "code",
   "execution_count": 43,
   "metadata": {
    "collapsed": true
   },
   "outputs": [
    {
     "data": {
      "text/plain": "{'baseball': 0,\n 'love': 1,\n 'this': 2,\n 'for': 3,\n 'that': 4,\n 'loves': 5,\n 'you': 6,\n 'sorry': 7,\n 'is': 8,\n 'i': 9,\n 'she': 10,\n 'likes': 11,\n 'he': 12,\n 'me': 13,\n 'hate': 14,\n 'awful': 15}"
     },
     "execution_count": 43,
     "metadata": {},
     "output_type": "execute_result"
    }
   ],
   "source": [
    "import torch\n",
    "import numpy as np\n",
    "import torch.nn as nn\n",
    "import torch.optim as optim\n",
    "import torch.utils.data as Data\n",
    "import torch.nn.functional as F\n",
    "\n",
    "dtype = torch.FloatTensor\n",
    "device = torch.device(\"cuda\" if torch.cuda.is_available() else \"cpu\")\n",
    "\n",
    "# 3 words sentences (=sequence_length is 3)\n",
    "sentences = [\"i love you\", \"he loves me\", \"she likes baseball\", \"i hate you\", \"sorry for that\", \"this is awful\"]\n",
    "labels = [1, 1, 1, 0, 0, 0]  # 1 is good, 0 is not good.\n",
    "\n",
    "# TextCNN Parameter\n",
    "embedding_size = 2\n",
    "sequence_length = len(sentences[0])  # every sentences contains sequence_length(=3) words\n",
    "num_classes = 2  # 0 or 1\n",
    "batch_size = 3\n",
    "\n",
    "word_list = \" \".join(sentences).split()\n",
    "vocab = list(set(word_list))\n",
    "word2idx = {w: i for i, w in enumerate(vocab)}\n",
    "vocab_size = len(vocab)\n",
    "vocab\n",
    "word2idx"
   ]
  },
  {
   "cell_type": "code",
   "execution_count": 44,
   "outputs": [
    {
     "name": "stdout",
     "output_type": "stream",
     "text": [
      "tensor([[ 9,  1,  6],\n",
      "        [12,  5, 13],\n",
      "        [10, 11,  0],\n",
      "        [ 9, 14,  6],\n",
      "        [ 7,  3,  4],\n",
      "        [ 2,  8, 15]])\n",
      "tensor([1, 1, 1, 0, 0, 0])\n"
     ]
    }
   ],
   "source": [
    "def make_data(sentences, labels):\n",
    "    inputs = []\n",
    "    for sen in sentences:\n",
    "        inputs.append([word2idx[n] for n in sen.split()])\n",
    "\n",
    "    targets = []\n",
    "    for out in labels:\n",
    "        targets.append(out)  # To using Torch Softmax Loss function\n",
    "    return inputs, targets\n",
    "\n",
    "\n",
    "input_batch, target_batch = make_data(sentences, labels)\n",
    "input_batch, target_batch = torch.LongTensor(input_batch), torch.LongTensor(target_batch)\n",
    "print(input_batch)\n",
    "print(target_batch)\n",
    "dataset = Data.TensorDataset(input_batch, target_batch)\n",
    "loader = Data.DataLoader(dataset, batch_size, True)"
   ],
   "metadata": {
    "collapsed": false,
    "pycharm": {
     "name": "#%%\n"
    }
   }
  },
  {
   "cell_type": "code",
   "execution_count": 45,
   "outputs": [
    {
     "name": "stdout",
     "output_type": "stream",
     "text": [
      "TextCNN(\n",
      "  (W): Embedding(16, 2)\n",
      "  (lstm1): LSTM(2, 10, num_layers=2, batch_first=True, dropout=0.2, bidirectional=True)\n",
      "  (linear): Linear(in_features=20, out_features=2, bias=True)\n",
      "  (relu): ReLU()\n",
      "  (conv): Sequential(\n",
      "    (0): Conv2d(1, 3, kernel_size=(2, 2), stride=(1, 1))\n",
      "    (1): ReLU()\n",
      "    (2): MaxPool2d(kernel_size=(2, 1), stride=(2, 1), padding=0, dilation=1, ceil_mode=False)\n",
      "  )\n",
      "  (fc): Linear(in_features=3, out_features=2, bias=True)\n",
      ")\n"
     ]
    }
   ],
   "source": [
    "class TextCNN(nn.Module):\n",
    "    def __init__(self,hidden_dim,n_layers,output_size):\n",
    "        super(TextCNN, self).__init__()\n",
    "        self.W = nn.Embedding(vocab_size, embedding_size)\n",
    "        output_channel = 3\n",
    "        self.lstm1=nn.LSTM(input_size=embedding_size, hidden_size=hidden_dim, num_layers=2,\n",
    "                            dropout=0.2,batch_first=True,\n",
    "                            bidirectional=True)\n",
    "        # self.conv1=nn.Sequential(\n",
    "        #     nn.Linear(hidden_dim*2, output_size),\n",
    "        #     nn.ReLU(),\n",
    "        # )\n",
    "        self.linear=nn.Linear(hidden_dim*2, output_size)\n",
    "        self.relu=    nn.ReLU()\n",
    "        self.conv = nn.Sequential(\n",
    "            # conv : [input_channel(=1), output_channel, (filter_height, filter_width), stride=1]\n",
    "            nn.Conv2d(1, output_channel, (2, embedding_size)),\n",
    "            nn.ReLU(),\n",
    "            # pool : ((filter_height, filter_width))\n",
    "            nn.MaxPool2d((2, 1)),\n",
    "        )\n",
    "        # fc\n",
    "        self.fc = nn.Linear(output_channel, num_classes)\n",
    "\n",
    "    def forward(self, X):\n",
    "        '''\n",
    "        X: [batch_size, sequence_length]\n",
    "        '''\n",
    "        batch_size = X.shape[0]\n",
    "        embedding_X = self.W(X)  # [batch_size, sequence_length, embedding_size]\n",
    "        embedding_X,(h,c)=self.lstm1(embedding_X)\n",
    "        embedding_X=self.linear(embedding_X)\n",
    "        embedding_X=self.relu(embedding_X)\n",
    "        # embedding_X=self.conv1(embedding_X)\n",
    "        embedding_X = embedding_X.unsqueeze(1)  # add channel(=1) [batch, channel(=1), sequence_length, embedding_size]\n",
    "        conved = self.conv(embedding_X)  # [batch_size, output_channel, 1, 1]\n",
    "        flatten = conved.view(batch_size, -1)  # [batch_size, output_channel*1*1]\n",
    "        output = self.fc(flatten)\n",
    "        return output\n",
    "\n",
    "hidden_dim=10\n",
    "n_layers=2\n",
    "output_size=embedding_size\n",
    "model = TextCNN(hidden_dim,n_layers,output_size).to(device)\n",
    "print(model)\n",
    "criterion = nn.CrossEntropyLoss().to(device)\n",
    "optimizer = optim.Adam(model.parameters(), lr=1e-3)\n"
   ],
   "metadata": {
    "collapsed": false,
    "pycharm": {
     "name": "#%%\n"
    }
   }
  },
  {
   "cell_type": "code",
   "execution_count": 46,
   "outputs": [
    {
     "name": "stdout",
     "output_type": "stream",
     "text": [
      "Epoch: 1000 loss = 0.019376\n",
      "Epoch: 1000 loss = 0.038564\n",
      "Epoch: 2000 loss = 0.011283\n",
      "Epoch: 2000 loss = 0.005643\n",
      "Epoch: 3000 loss = 0.001998\n",
      "Epoch: 3000 loss = 0.003990\n",
      "Epoch: 4000 loss = 0.000755\n",
      "Epoch: 4000 loss = 0.001508\n",
      "Epoch: 5000 loss = 0.000584\n",
      "Epoch: 5000 loss = 0.000292\n",
      "i hate me is Good Mean!!\n"
     ]
    }
   ],
   "source": [
    "# Training\n",
    "for epoch in range(5000):\n",
    "    for batch_x, batch_y in loader:\n",
    "        batch_x, batch_y = batch_x.to(device), batch_y.to(device)\n",
    "        pred = model(batch_x)\n",
    "        loss = criterion(pred, batch_y)\n",
    "        if (epoch + 1) % 1000 == 0:\n",
    "            print('Epoch:', '%04d' % (epoch + 1), 'loss =', '{:.6f}'.format(loss))\n",
    "\n",
    "        optimizer.zero_grad()\n",
    "        loss.backward()\n",
    "        optimizer.step()\n",
    "\n",
    "# Test\n",
    "test_text = 'i hate me'\n",
    "tests = [[word2idx[n] for n in test_text.split()]]\n",
    "test_batch = torch.LongTensor(tests).to(device)\n",
    "# Predict\n",
    "model = model.eval()\n",
    "predict = model(test_batch).data.max(1, keepdim=True)[1]\n",
    "if predict[0][0] == 0:\n",
    "    print(test_text, \"is Bad Mean...\")\n",
    "else:\n",
    "    print(test_text, \"is Good Mean!!\")"
   ],
   "metadata": {
    "collapsed": false,
    "pycharm": {
     "name": "#%%\n"
    }
   }
  },
  {
   "cell_type": "code",
   "execution_count": null,
   "outputs": [],
   "source": [],
   "metadata": {
    "collapsed": false,
    "pycharm": {
     "name": "#%%\n"
    }
   }
  }
 ],
 "metadata": {
  "kernelspec": {
   "name": "myenv",
   "language": "python",
   "display_name": "myenv"
  },
  "language_info": {
   "codemirror_mode": {
    "name": "ipython",
    "version": 2
   },
   "file_extension": ".py",
   "mimetype": "text/x-python",
   "name": "python",
   "nbconvert_exporter": "python",
   "pygments_lexer": "ipython2",
   "version": "2.7.6"
  }
 },
 "nbformat": 4,
 "nbformat_minor": 0
}